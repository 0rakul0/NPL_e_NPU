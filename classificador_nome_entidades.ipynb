{
 "cells": [
  {
   "cell_type": "code",
   "execution_count": 22,
   "outputs": [],
   "source": [
    "#!pip install --user pip setuptools wheel"
   ],
   "metadata": {
    "collapsed": false,
    "pycharm": {
     "name": "#%%\n"
    }
   }
  },
  {
   "cell_type": "code",
   "execution_count": 23,
   "outputs": [],
   "source": [
    "#!pip install --user spacy"
   ],
   "metadata": {
    "collapsed": false,
    "pycharm": {
     "name": "#%%\n"
    }
   }
  },
  {
   "cell_type": "code",
   "execution_count": 24,
   "outputs": [],
   "source": [
    "#!python -m spacy download pt_core_news_lg --user"
   ],
   "metadata": {
    "collapsed": false,
    "pycharm": {
     "name": "#%%\n"
    }
   }
  },
  {
   "cell_type": "code",
   "execution_count": 25,
   "outputs": [],
   "source": [
    "import spacy"
   ],
   "metadata": {
    "collapsed": false,
    "pycharm": {
     "name": "#%%\n"
    }
   }
  },
  {
   "cell_type": "code",
   "execution_count": 26,
   "outputs": [],
   "source": [
    "import pandas as pd"
   ],
   "metadata": {
    "collapsed": false,
    "pycharm": {
     "name": "#%%\n"
    }
   }
  },
  {
   "cell_type": "code",
   "execution_count": 27,
   "outputs": [],
   "source": [
    "planilha = pd.read_excel('./dados/Primeiro_Nome.xlsx')"
   ],
   "metadata": {
    "collapsed": false,
    "pycharm": {
     "name": "#%%\n"
    }
   }
  },
  {
   "cell_type": "code",
   "execution_count": 28,
   "outputs": [
    {
     "data": {
      "text/plain": "  Nome pessoa fisica  Unnamed: 1 Nome pessoa juridica  Unnamed: 3 Na duvida\n0           0SWALDO          NaN                 ABC          NaN       AB \n1             AARON          NaN                 ABD          NaN       AA \n2            ABADIA          NaN            ABSOLUTA          NaN   HJRPFD \n3             ABADY          NaN                 ACE          NaN       NaN\n4           ABATUIR          NaN                ACER          NaN       NaN",
      "text/html": "<div>\n<style scoped>\n    .dataframe tbody tr th:only-of-type {\n        vertical-align: middle;\n    }\n\n    .dataframe tbody tr th {\n        vertical-align: top;\n    }\n\n    .dataframe thead th {\n        text-align: right;\n    }\n</style>\n<table border=\"1\" class=\"dataframe\">\n  <thead>\n    <tr style=\"text-align: right;\">\n      <th></th>\n      <th>Nome pessoa fisica</th>\n      <th>Unnamed: 1</th>\n      <th>Nome pessoa juridica</th>\n      <th>Unnamed: 3</th>\n      <th>Na duvida</th>\n    </tr>\n  </thead>\n  <tbody>\n    <tr>\n      <th>0</th>\n      <td>0SWALDO</td>\n      <td>NaN</td>\n      <td>ABC</td>\n      <td>NaN</td>\n      <td>AB</td>\n    </tr>\n    <tr>\n      <th>1</th>\n      <td>AARON</td>\n      <td>NaN</td>\n      <td>ABD</td>\n      <td>NaN</td>\n      <td>AA</td>\n    </tr>\n    <tr>\n      <th>2</th>\n      <td>ABADIA</td>\n      <td>NaN</td>\n      <td>ABSOLUTA</td>\n      <td>NaN</td>\n      <td>HJRPFD</td>\n    </tr>\n    <tr>\n      <th>3</th>\n      <td>ABADY</td>\n      <td>NaN</td>\n      <td>ACE</td>\n      <td>NaN</td>\n      <td>NaN</td>\n    </tr>\n    <tr>\n      <th>4</th>\n      <td>ABATUIR</td>\n      <td>NaN</td>\n      <td>ACER</td>\n      <td>NaN</td>\n      <td>NaN</td>\n    </tr>\n  </tbody>\n</table>\n</div>"
     },
     "execution_count": 28,
     "metadata": {},
     "output_type": "execute_result"
    }
   ],
   "source": [
    "planilha.head()"
   ],
   "metadata": {
    "collapsed": false,
    "pycharm": {
     "name": "#%%\n"
    }
   }
  },
  {
   "cell_type": "code",
   "execution_count": 29,
   "outputs": [],
   "source": [
    "nlp = spacy.load('pt_core_news_lg')"
   ],
   "metadata": {
    "collapsed": false,
    "pycharm": {
     "name": "#%%\n"
    }
   }
  },
  {
   "cell_type": "code",
   "execution_count": 30,
   "outputs": [],
   "source": [
    "lista_nomes = []\n",
    "lista_pessoa_fisica = []\n",
    "lista_pessoa_juridica = []"
   ],
   "metadata": {
    "collapsed": false,
    "pycharm": {
     "name": "#%%\n"
    }
   }
  },
  {
   "cell_type": "code",
   "execution_count": 31,
   "outputs": [],
   "source": [
    "for id, x in planilha.iterrows():\n",
    "    palavra = x['Nome pessoa fisica']\n",
    "    lista_nomes.append(palavra)"
   ],
   "metadata": {
    "collapsed": false,
    "pycharm": {
     "name": "#%%\n"
    }
   }
  },
  {
   "cell_type": "code",
   "execution_count": 32,
   "outputs": [
    {
     "name": "stdout",
     "output_type": "stream",
     "text": [
      "AARON PER\n",
      "ABADY MISC\n",
      "ABATUIR ORG\n",
      "ABBAS PER\n",
      "ABDA LOC\n",
      "ABDALA MISC\n",
      "ABDENUR MISC\n",
      "ABDERSON LOC\n",
      "ABDIAS LOC\n",
      "ABDIEL ORG\n",
      "ABDINEIA ORG\n",
      "ABDON LOC\n",
      "ABDOU MISC\n",
      "ABDU MISC\n",
      "ABDUCH ORG\n",
      "ABDUL MISC\n",
      "ABDULLAH LOC\n",
      "ABEDENEGO MISC\n",
      "ABEDIAS LOC\n",
      "ABELAR LOC\n",
      "ABELARDE LOC\n",
      "ABELINA ORG\n",
      "ABELINO MISC\n",
      "ABELITA MISC\n",
      "ABELMON MISC\n",
      "ABENATHAR ORG\n",
      "ABENICIO MISC\n",
      "ABENIDES LOC\n",
      "ABENISIO MISC\n",
      "ABENUI ORG\n",
      "ABERALDO ORG\n",
      "ABERCIO ORG\n",
      "ABGAIL PER\n",
      "ABGAIR PER\n",
      "ABHNER MISC\n",
      "ABIAIL LOC\n",
      "ABIB MISC\n",
      "ABIBA LOC\n",
      "ABIDA MISC\n",
      "ABIDIAS PER\n",
      "ABIDORAL ORG\n",
      "ABIGAIR MISC\n",
      "ABIJOAN ORG\n",
      "ABIMAIR MISC\n",
      "ABINAAN LOC\n",
      "ABINAEL MISC\n",
      "ABINAEZIA MISC\n",
      "ABINALDO ORG\n",
      "ABINER PER\n",
      "ABINOAM ORG\n",
      "ABINOAN ORG\n",
      "ABINOE LOC\n",
      "ABIQUEILA ORG\n",
      "ABIUD ORG\n",
      "ABLA ORG\n",
      "ABMAEL LOC\n",
      "ABNADAB PER\n",
      "ABNE ORG\n",
      "ABOUNDI ORG\n",
      "ABRAHAM MISC\n",
      "ABRAM ORG\n",
      "ABRISA ORG\n",
      "ABTA ORG\n",
      "ABUD ORG\n",
      "ABUIM ORG\n",
      "ABUINO LOC\n",
      "ABUL ORG\n",
      "ABVANILDO ORG\n",
      "ABYARA ORG\n",
      "ABYLENE ORG\n",
      "ACACIA MISC\n",
      "ACACIANO LOC\n",
      "ACARI LOC\n",
      "ACARIANA LOC\n",
      "ACARY LOC\n",
      "ACASSIA ORG\n",
      "ACASSIO PER\n",
      "ACCACIO ORG\n",
      "ACEL MISC\n",
      "ACELINO PER\n",
      "ACELITON MISC\n",
      "ACELLE LOC\n",
      "ACEMAR ORG\n",
      "ACEMIR PER\n",
      "ACHILIS MISC\n",
      "ACIDALIA ORG\n",
      "ACIDIR PER\n",
      "ACILDA PER\n",
      "ACILEA ORG\n",
      "ACIMAR ORG\n",
      "ACIMARA ORG\n",
      "ACIOMAR PER\n",
      "ACIONE MISC\n",
      "ACIR PER\n",
      "ACIRIA MISC\n",
      "ACIZE PER\n",
      "ACLAN LOC\n",
      "ACLEI LOC\n",
      "ACLESIA MISC\n",
      "ACLESIO ORG\n",
      "ACREZIO LOC\n",
      "ACRISIO ORG\n"
     ]
    },
    {
     "ename": "ValueError",
     "evalue": "[E1041] Expected a string, Doc, or bytes as input, but got: <class 'float'>",
     "output_type": "error",
     "traceback": [
      "\u001B[1;31m---------------------------------------------------------------------------\u001B[0m",
      "\u001B[1;31mValueError\u001B[0m                                Traceback (most recent call last)",
      "Input \u001B[1;32mIn [32]\u001B[0m, in \u001B[0;36m<cell line: 1>\u001B[1;34m()\u001B[0m\n\u001B[0;32m      1\u001B[0m \u001B[38;5;28;01mfor\u001B[39;00m pla \u001B[38;5;129;01min\u001B[39;00m lista_nomes:\n\u001B[1;32m----> 2\u001B[0m     doc \u001B[38;5;241m=\u001B[39m \u001B[43mnlp\u001B[49m\u001B[43m(\u001B[49m\u001B[43mpla\u001B[49m\u001B[43m)\u001B[49m\n\u001B[0;32m      3\u001B[0m     \u001B[38;5;28;01mfor\u001B[39;00m ent \u001B[38;5;129;01min\u001B[39;00m doc\u001B[38;5;241m.\u001B[39ments:\n\u001B[0;32m      4\u001B[0m         \u001B[38;5;28mprint\u001B[39m(ent\u001B[38;5;241m.\u001B[39mtext, ent\u001B[38;5;241m.\u001B[39mlabel_)\n",
      "File \u001B[1;32m~\\anaconda3\\lib\\site-packages\\spacy\\language.py:1008\u001B[0m, in \u001B[0;36mLanguage.__call__\u001B[1;34m(self, text, disable, component_cfg)\u001B[0m\n\u001B[0;32m    987\u001B[0m \u001B[38;5;28;01mdef\u001B[39;00m \u001B[38;5;21m__call__\u001B[39m(\n\u001B[0;32m    988\u001B[0m     \u001B[38;5;28mself\u001B[39m,\n\u001B[0;32m    989\u001B[0m     text: Union[\u001B[38;5;28mstr\u001B[39m, Doc],\n\u001B[1;32m   (...)\u001B[0m\n\u001B[0;32m    992\u001B[0m     component_cfg: Optional[Dict[\u001B[38;5;28mstr\u001B[39m, Dict[\u001B[38;5;28mstr\u001B[39m, Any]]] \u001B[38;5;241m=\u001B[39m \u001B[38;5;28;01mNone\u001B[39;00m,\n\u001B[0;32m    993\u001B[0m ) \u001B[38;5;241m-\u001B[39m\u001B[38;5;241m>\u001B[39m Doc:\n\u001B[0;32m    994\u001B[0m     \u001B[38;5;124;03m\"\"\"Apply the pipeline to some text. The text can span multiple sentences,\u001B[39;00m\n\u001B[0;32m    995\u001B[0m \u001B[38;5;124;03m    and can contain arbitrary whitespace. Alignment into the original string\u001B[39;00m\n\u001B[0;32m    996\u001B[0m \u001B[38;5;124;03m    is preserved.\u001B[39;00m\n\u001B[1;32m   (...)\u001B[0m\n\u001B[0;32m   1006\u001B[0m \u001B[38;5;124;03m    DOCS: https://spacy.io/api/language#call\u001B[39;00m\n\u001B[0;32m   1007\u001B[0m \u001B[38;5;124;03m    \"\"\"\u001B[39;00m\n\u001B[1;32m-> 1008\u001B[0m     doc \u001B[38;5;241m=\u001B[39m \u001B[38;5;28;43mself\u001B[39;49m\u001B[38;5;241;43m.\u001B[39;49m\u001B[43m_ensure_doc\u001B[49m\u001B[43m(\u001B[49m\u001B[43mtext\u001B[49m\u001B[43m)\u001B[49m\n\u001B[0;32m   1009\u001B[0m     \u001B[38;5;28;01mif\u001B[39;00m component_cfg \u001B[38;5;129;01mis\u001B[39;00m \u001B[38;5;28;01mNone\u001B[39;00m:\n\u001B[0;32m   1010\u001B[0m         component_cfg \u001B[38;5;241m=\u001B[39m {}\n",
      "File \u001B[1;32m~\\anaconda3\\lib\\site-packages\\spacy\\language.py:1102\u001B[0m, in \u001B[0;36mLanguage._ensure_doc\u001B[1;34m(self, doc_like)\u001B[0m\n\u001B[0;32m   1100\u001B[0m \u001B[38;5;28;01mif\u001B[39;00m \u001B[38;5;28misinstance\u001B[39m(doc_like, \u001B[38;5;28mbytes\u001B[39m):\n\u001B[0;32m   1101\u001B[0m     \u001B[38;5;28;01mreturn\u001B[39;00m Doc(\u001B[38;5;28mself\u001B[39m\u001B[38;5;241m.\u001B[39mvocab)\u001B[38;5;241m.\u001B[39mfrom_bytes(doc_like)\n\u001B[1;32m-> 1102\u001B[0m \u001B[38;5;28;01mraise\u001B[39;00m \u001B[38;5;167;01mValueError\u001B[39;00m(Errors\u001B[38;5;241m.\u001B[39mE1041\u001B[38;5;241m.\u001B[39mformat(\u001B[38;5;28mtype\u001B[39m\u001B[38;5;241m=\u001B[39m\u001B[38;5;28mtype\u001B[39m(doc_like)))\n",
      "\u001B[1;31mValueError\u001B[0m: [E1041] Expected a string, Doc, or bytes as input, but got: <class 'float'>"
     ]
    }
   ],
   "source": [
    "for pla in lista_nomes:\n",
    "    doc = nlp(pla)\n",
    "    for ent in doc.ents:\n",
    "        print(ent.text, ent.label_)\n",
    "        if ent.label_ == \"PER\":\n",
    "            pessoa_fisica = ent.text\n",
    "            lista_pessoa_fisica.append(pessoa_fisica)\n",
    "        else:\n",
    "            pessoa_juridica = ent.text\n",
    "            lista_pessoa_juridica.append(pessoa_juridica)"
   ],
   "metadata": {
    "collapsed": false,
    "pycharm": {
     "name": "#%%\n"
    }
   }
  },
  {
   "cell_type": "code",
   "execution_count": 33,
   "outputs": [
    {
     "data": {
      "text/plain": "['AARON',\n 'ABBAS',\n 'ABGAIL',\n 'ABGAIR',\n 'ABIDIAS',\n 'ABINER',\n 'ABNADAB',\n 'ACASSIO',\n 'ACELINO',\n 'ACEMIR',\n 'ACIDIR',\n 'ACILDA',\n 'ACIOMAR',\n 'ACIR',\n 'ACIZE']"
     },
     "execution_count": 33,
     "metadata": {},
     "output_type": "execute_result"
    }
   ],
   "source": [
    "lista_pessoa_fisica"
   ],
   "metadata": {
    "collapsed": false,
    "pycharm": {
     "name": "#%%\n"
    }
   }
  },
  {
   "cell_type": "code",
   "execution_count": 34,
   "outputs": [
    {
     "data": {
      "text/plain": "['ABADY',\n 'ABATUIR',\n 'ABDA',\n 'ABDALA',\n 'ABDENUR',\n 'ABDERSON',\n 'ABDIAS',\n 'ABDIEL',\n 'ABDINEIA',\n 'ABDON',\n 'ABDOU',\n 'ABDU',\n 'ABDUCH',\n 'ABDUL',\n 'ABDULLAH',\n 'ABEDENEGO',\n 'ABEDIAS',\n 'ABELAR',\n 'ABELARDE',\n 'ABELINA',\n 'ABELINO',\n 'ABELITA',\n 'ABELMON',\n 'ABENATHAR',\n 'ABENICIO',\n 'ABENIDES',\n 'ABENISIO',\n 'ABENUI',\n 'ABERALDO',\n 'ABERCIO',\n 'ABHNER',\n 'ABIAIL',\n 'ABIB',\n 'ABIBA',\n 'ABIDA',\n 'ABIDORAL',\n 'ABIGAIR',\n 'ABIJOAN',\n 'ABIMAIR',\n 'ABINAAN',\n 'ABINAEL',\n 'ABINAEZIA',\n 'ABINALDO',\n 'ABINOAM',\n 'ABINOAN',\n 'ABINOE',\n 'ABIQUEILA',\n 'ABIUD',\n 'ABLA',\n 'ABMAEL',\n 'ABNE',\n 'ABOUNDI',\n 'ABRAHAM',\n 'ABRAM',\n 'ABRISA',\n 'ABTA',\n 'ABUD',\n 'ABUIM',\n 'ABUINO',\n 'ABUL',\n 'ABVANILDO',\n 'ABYARA',\n 'ABYLENE',\n 'ACACIA',\n 'ACACIANO',\n 'ACARI',\n 'ACARIANA',\n 'ACARY',\n 'ACASSIA',\n 'ACCACIO',\n 'ACEL',\n 'ACELITON',\n 'ACELLE',\n 'ACEMAR',\n 'ACHILIS',\n 'ACIDALIA',\n 'ACILEA',\n 'ACIMAR',\n 'ACIMARA',\n 'ACIONE',\n 'ACIRIA',\n 'ACLAN',\n 'ACLEI',\n 'ACLESIA',\n 'ACLESIO',\n 'ACREZIO',\n 'ACRISIO']"
     },
     "execution_count": 34,
     "metadata": {},
     "output_type": "execute_result"
    }
   ],
   "source": [
    "lista_pessoa_juridica"
   ],
   "metadata": {
    "collapsed": false,
    "pycharm": {
     "name": "#%%\n"
    }
   }
  }
 ],
 "metadata": {
  "kernelspec": {
   "display_name": "Python 3",
   "language": "python",
   "name": "python3"
  },
  "language_info": {
   "codemirror_mode": {
    "name": "ipython",
    "version": 2
   },
   "file_extension": ".py",
   "mimetype": "text/x-python",
   "name": "python",
   "nbconvert_exporter": "python",
   "pygments_lexer": "ipython2",
   "version": "2.7.6"
  }
 },
 "nbformat": 4,
 "nbformat_minor": 0
}