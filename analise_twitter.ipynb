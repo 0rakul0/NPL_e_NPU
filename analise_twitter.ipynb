{
 "cells": [
  {
   "cell_type": "code",
   "execution_count": 1,
   "metadata": {
    "collapsed": true,
    "pycharm": {
     "name": "#%%\n"
    }
   },
   "outputs": [
    {
     "data": {
      "text/plain": "'2.3.3'"
     },
     "execution_count": 1,
     "metadata": {},
     "output_type": "execute_result"
    }
   ],
   "source": [
    "import spacy\n",
    "spacy.__version__"
   ]
  },
  {
   "cell_type": "code",
   "execution_count": 2,
   "outputs": [
    {
     "name": "stdout",
     "output_type": "stream",
     "text": [
      "Collecting pt_core_news_sm==2.3.0\n",
      "  Downloading https://github.com/explosion/spacy-models/releases/download/pt_core_news_sm-2.3.0/pt_core_news_sm-2.3.0.tar.gz (19.6 MB)\n",
      "  Preparing metadata (setup.py): started\n",
      "  Preparing metadata (setup.py): finished with status 'done'\n",
      "Requirement already satisfied: spacy<2.4.0,>=2.3.0 in c:\\users\\jeff\\desktop\\github\\npl_e_npu\\venv\\lib\\site-packages (from pt_core_news_sm==2.3.0) (2.3.3)\n",
      "Requirement already satisfied: cymem<2.1.0,>=2.0.2 in c:\\users\\jeff\\desktop\\github\\npl_e_npu\\venv\\lib\\site-packages (from spacy<2.4.0,>=2.3.0->pt_core_news_sm==2.3.0) (2.0.6)\n",
      "Requirement already satisfied: murmurhash<1.1.0,>=0.28.0 in c:\\users\\jeff\\desktop\\github\\npl_e_npu\\venv\\lib\\site-packages (from spacy<2.4.0,>=2.3.0->pt_core_news_sm==2.3.0) (1.0.8)\n",
      "Requirement already satisfied: setuptools in c:\\users\\jeff\\desktop\\github\\npl_e_npu\\venv\\lib\\site-packages (from spacy<2.4.0,>=2.3.0->pt_core_news_sm==2.3.0) (60.2.0)\n",
      "Requirement already satisfied: plac<1.2.0,>=0.9.6 in c:\\users\\jeff\\desktop\\github\\npl_e_npu\\venv\\lib\\site-packages (from spacy<2.4.0,>=2.3.0->pt_core_news_sm==2.3.0) (1.1.3)\n",
      "Requirement already satisfied: numpy>=1.15.0 in c:\\users\\jeff\\desktop\\github\\npl_e_npu\\venv\\lib\\site-packages (from spacy<2.4.0,>=2.3.0->pt_core_news_sm==2.3.0) (1.23.2)\n",
      "Requirement already satisfied: requests<3.0.0,>=2.13.0 in c:\\users\\jeff\\desktop\\github\\npl_e_npu\\venv\\lib\\site-packages (from spacy<2.4.0,>=2.3.0->pt_core_news_sm==2.3.0) (2.28.1)\n",
      "Requirement already satisfied: preshed<3.1.0,>=3.0.2 in c:\\users\\jeff\\desktop\\github\\npl_e_npu\\venv\\lib\\site-packages (from spacy<2.4.0,>=2.3.0->pt_core_news_sm==2.3.0) (3.0.7)\n",
      "Requirement already satisfied: wasabi<1.1.0,>=0.4.0 in c:\\users\\jeff\\desktop\\github\\npl_e_npu\\venv\\lib\\site-packages (from spacy<2.4.0,>=2.3.0->pt_core_news_sm==2.3.0) (0.10.1)\n",
      "Requirement already satisfied: thinc<7.5.0,>=7.4.1 in c:\\users\\jeff\\desktop\\github\\npl_e_npu\\venv\\lib\\site-packages (from spacy<2.4.0,>=2.3.0->pt_core_news_sm==2.3.0) (7.4.6)\n",
      "Requirement already satisfied: tqdm<5.0.0,>=4.38.0 in c:\\users\\jeff\\desktop\\github\\npl_e_npu\\venv\\lib\\site-packages (from spacy<2.4.0,>=2.3.0->pt_core_news_sm==2.3.0) (4.64.0)\n",
      "Requirement already satisfied: srsly<1.1.0,>=1.0.2 in c:\\users\\jeff\\desktop\\github\\npl_e_npu\\venv\\lib\\site-packages (from spacy<2.4.0,>=2.3.0->pt_core_news_sm==2.3.0) (1.0.6)\n",
      "Requirement already satisfied: blis<0.8.0,>=0.4.0 in c:\\users\\jeff\\desktop\\github\\npl_e_npu\\venv\\lib\\site-packages (from spacy<2.4.0,>=2.3.0->pt_core_news_sm==2.3.0) (0.7.8)\n",
      "Requirement already satisfied: catalogue<1.1.0,>=0.0.7 in c:\\users\\jeff\\desktop\\github\\npl_e_npu\\venv\\lib\\site-packages (from spacy<2.4.0,>=2.3.0->pt_core_news_sm==2.3.0) (1.0.2)\n",
      "Requirement already satisfied: certifi>=2017.4.17 in c:\\users\\jeff\\desktop\\github\\npl_e_npu\\venv\\lib\\site-packages (from requests<3.0.0,>=2.13.0->spacy<2.4.0,>=2.3.0->pt_core_news_sm==2.3.0) (2022.6.15)\n",
      "Requirement already satisfied: urllib3<1.27,>=1.21.1 in c:\\users\\jeff\\desktop\\github\\npl_e_npu\\venv\\lib\\site-packages (from requests<3.0.0,>=2.13.0->spacy<2.4.0,>=2.3.0->pt_core_news_sm==2.3.0) (1.26.12)\n",
      "Requirement already satisfied: charset-normalizer<3,>=2 in c:\\users\\jeff\\desktop\\github\\npl_e_npu\\venv\\lib\\site-packages (from requests<3.0.0,>=2.13.0->spacy<2.4.0,>=2.3.0->pt_core_news_sm==2.3.0) (2.1.1)\n",
      "Requirement already satisfied: idna<4,>=2.5 in c:\\users\\jeff\\desktop\\github\\npl_e_npu\\venv\\lib\\site-packages (from requests<3.0.0,>=2.13.0->spacy<2.4.0,>=2.3.0->pt_core_news_sm==2.3.0) (3.3)\n",
      "Requirement already satisfied: colorama in c:\\users\\jeff\\desktop\\github\\npl_e_npu\\venv\\lib\\site-packages (from tqdm<5.0.0,>=4.38.0->spacy<2.4.0,>=2.3.0->pt_core_news_sm==2.3.0) (0.4.5)\n",
      "Building wheels for collected packages: pt-core-news-sm\n",
      "  Building wheel for pt-core-news-sm (setup.py): started\n",
      "  Building wheel for pt-core-news-sm (setup.py): finished with status 'done'\n",
      "  Created wheel for pt-core-news-sm: filename=pt_core_news_sm-2.3.0-py3-none-any.whl size=19557493 sha256=0c3e08a4dc33f4aa5360e8e59140d0f1fc222e66c8000c39d7c90f0750ffb410\n",
      "  Stored in directory: C:\\Users\\jeff\\AppData\\Local\\Temp\\pip-ephem-wheel-cache-whhj1ke4\\wheels\\d2\\5b\\37\\0f441ea41e3d4f3735d0fba3ea6d7923af4a865d22475e4caf\n",
      "Successfully built pt-core-news-sm\n",
      "Installing collected packages: pt-core-news-sm\n",
      "Successfully installed pt-core-news-sm-2.3.0\n",
      "[+] Download and installation successful\n",
      "You can now load the model via spacy.load('pt_core_news_sm')\n",
      "[x] Couldn't link model to 'pt'\n",
      "Creating a symlink in spacy/data failed. Make sure you have the required\n",
      "permissions and try re-running the command as admin, or use a virtualenv. You\n",
      "can still import the model as a module and call its load() method, or create the\n",
      "symlink manually.\n",
      "C:\\Users\\jeff\\Desktop\\GITHUB\\NPL_e_NPU\\venv\\lib\\site-packages\\pt_core_news_sm\n",
      "--> C:\\Users\\jeff\\Desktop\\GITHUB\\NPL_e_NPU\\venv\\lib\\site-packages\\spacy\\data\\pt\n",
      "[!] Download successful but linking failed\n",
      "Creating a shortcut link for 'pt' didn't work (maybe you don't have admin\n",
      "permissions?), but you can still load the model via its full package name: nlp =\n",
      "spacy.load('pt_core_news_sm')\n"
     ]
    },
    {
     "name": "stderr",
     "output_type": "stream",
     "text": [
      "WARNING: You are using pip version 21.3.1; however, version 22.3.1 is available.\n",
      "You should consider upgrading via the 'C:\\Users\\jeff\\Desktop\\GITHUB\\NPL_e_NPU\\venv\\Scripts\\python.exe -m pip install --upgrade pip' command.\n",
      "Vocˆ nÆo tem privil‚gios suficientes para realizar esta opera‡Æo.\n"
     ]
    }
   ],
   "source": [
    "!python -m spacy download pt"
   ],
   "metadata": {
    "collapsed": false,
    "pycharm": {
     "name": "#%%\n"
    }
   }
  },
  {
   "cell_type": "code",
   "execution_count": null,
   "outputs": [],
   "source": [],
   "metadata": {
    "collapsed": false,
    "pycharm": {
     "name": "#%%\n"
    }
   }
  }
 ],
 "metadata": {
  "kernelspec": {
   "display_name": "Python 3",
   "language": "python",
   "name": "python3"
  },
  "language_info": {
   "codemirror_mode": {
    "name": "ipython",
    "version": 2
   },
   "file_extension": ".py",
   "mimetype": "text/x-python",
   "name": "python",
   "nbconvert_exporter": "python",
   "pygments_lexer": "ipython2",
   "version": "2.7.6"
  }
 },
 "nbformat": 4,
 "nbformat_minor": 0
}